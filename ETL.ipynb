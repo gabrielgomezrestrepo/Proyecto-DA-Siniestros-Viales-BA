{
 "cells": [
  {
   "cell_type": "markdown",
   "metadata": {},
   "source": [
    "# ETL SINIESTROS VIALES \n",
    "# Ciudad Autonoma de Buenos Aires CABA\n",
    "\n",
    "**Por** \n",
    "\n",
    "**Data Analyst**\n",
    "\n",
    "**GABRIEL GOMEZ RESTREPO**"
   ]
  },
  {
   "cell_type": "markdown",
   "metadata": {},
   "source": []
  },
  {
   "cell_type": "code",
   "execution_count": null,
   "metadata": {},
   "outputs": [],
   "source": []
  }
 ],
 "metadata": {
  "language_info": {
   "name": "python"
  }
 },
 "nbformat": 4,
 "nbformat_minor": 2
}
