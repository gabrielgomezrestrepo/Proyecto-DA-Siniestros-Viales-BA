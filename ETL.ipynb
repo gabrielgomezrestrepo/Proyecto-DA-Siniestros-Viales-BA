{
 "cells": [
  {
   "cell_type": "markdown",
   "metadata": {},
   "source": [
    "# ETL SINIESTROS VIALES \n",
    "# Ciudad Autonoma de Buenos Aires CABA\n",
    "\n",
    "**Por** \n",
    "\n",
    "**Data Analyst**\n",
    "\n",
    "**GABRIEL GOMEZ RESTREPO**"
   ]
  },
  {
   "cell_type": "markdown",
   "metadata": {},
   "source": [
    "\n",
    "\n",
    "\n",
    "\n",
    "Para  los Datasets  este  estudio sobre los accidentes viales de la Ciudad Autonoma de Buenos Aires(CABA), Argentina.\n",
    "recurrimos a consultar  la siguientes links: \n",
    "\n",
    "**Para siniestros**\n",
    "\n",
    "homicidios.xlsx   ( Hechos y Victimas)\n",
    "\n",
    "https://data.buenosaires.gob.ar/dataset/victimas-siniestros-viales\n",
    "\n",
    "**Para poblacion por Comuna** \n",
    "\n",
    "PBP_CO1025.xls   (poblacion por comuna  por edad y sexo)\n",
    "\n",
    "proy_1025_depto_caba.xls   (resumen de PBP_CO1025, poblacion por comuna y por sexo)\n",
    "\n",
    "https://data.buenosaires.gob.ar/dataset/estructura-poblacion\n",
    "\n",
    "\n",
    "http://www.indec.mecon.ar/ftp/cuadros/poblacion\n",
    "\n",
    "**Para Bariios por Comuna** \n",
    "\n",
    "comunas.xlsx  (Barrios por comuna)\n",
    "\n",
    "https://data.buenosaires.gob.ar/dataset/comunas\n",
    "\n",
    "La revision inicial de los datos que hemos otenido requiere de su estraccion tranformacion y  finalmente Cargar o crear una nueva base de datos usando nombres auque similares para  diferenciarlos con las fuentes originales.\n",
    "## Librerias \n",
    "Las siguientes librerias son las que utilice. \n",
    "\n",
    "* **Pandas (import pandas as pd):**\n",
    "Pandas es una biblioteca de Python fundamental en manejo de DataFrame que proporciona estructuras de datos flexibles y herramientas de análisis. \n",
    "\n",
    "* **NumPy (import numpy as np):**\n",
    "NumPy es una biblioteca fundamental en Python para realizar operaciones numéricas.\n",
    "\n",
    "* **%load_ext autoreload y %autoreload 2:**\n",
    "Estos comandos son específicos de los cuadernos Jupyter y se utilizan para recargar automáticamente módulos antes de ejecutar una celda. %load_ext autoreload habilita la recarga automática de módulos, y %autoreload 2 configura la recarga automática para que sea más agresiva y recargue incluso las funciones de los módulos.\n",
    "\n",
    "* **Warnings (import warnings):**\n",
    "El módulo warnings proporciona herramientas para controlar las advertencias que emite Python. En este caso, se está configurando para ignorar las advertencias, lo cual puede ser útil para evitar que las advertencias llenen la salida de la consola y distraigan durante la ejecución del código.\n",
    "\n",
    "## Funciones \n",
    "\n",
    "* **Las funciones nos ahorran tiempo:**\n",
    ">Esta son las funciones que utilice, generar unas funciones para agilizar nuestras tareas es muy importante evitando muchas acciones repetitivas ademas permiten un proceso mas claro y ordenado a continuacion las relaciono:  "
   ]
  },
  {
   "cell_type": "markdown",
   "metadata": {},
   "source": [
    "ver_nulos, ver_duplicados, ver_tipo_datos, conver_tiempo, imputa_frecuente, imputa_edad_sexo"
   ]
  },
  {
   "cell_type": "markdown",
   "metadata": {},
   "source": [
    "# DATAFRAME df_hechos y df_victimas\n",
    "\n",
    "**La idea iniocial es crear 2 Dataframe ('df_hechos' y df_victimas )  empercemos con :** \n",
    "\n",
    "## df_hehos"
   ]
  },
  {
   "cell_type": "code",
   "execution_count": 1,
   "metadata": {},
   "outputs": [],
   "source": [
    "import numpy as np\n",
    "import pandas as pd"
   ]
  },
  {
   "cell_type": "code",
   "execution_count": 2,
   "metadata": {},
   "outputs": [],
   "source": [
    "df_hechos = pd.read_excel('./Datasets/Fuente/homicidios.xlsx', sheet_name='HECHOS')"
   ]
  },
  {
   "cell_type": "code",
   "execution_count": 3,
   "metadata": {},
   "outputs": [
    {
     "name": "stdout",
     "output_type": "stream",
     "text": [
      "<class 'pandas.core.frame.DataFrame'>\n",
      "RangeIndex: 696 entries, 0 to 695\n",
      "Data columns (total 21 columns):\n",
      " #   Column                 Non-Null Count  Dtype         \n",
      "---  ------                 --------------  -----         \n",
      " 0   ID                     696 non-null    object        \n",
      " 1   N_VICTIMAS             696 non-null    int64         \n",
      " 2   FECHA                  696 non-null    datetime64[ns]\n",
      " 3   AAAA                   696 non-null    int64         \n",
      " 4   MM                     696 non-null    int64         \n",
      " 5   DD                     696 non-null    int64         \n",
      " 6   HORA                   696 non-null    object        \n",
      " 7   HH                     696 non-null    object        \n",
      " 8   LUGAR_DEL_HECHO        696 non-null    object        \n",
      " 9   TIPO_DE_CALLE          696 non-null    object        \n",
      " 10  Calle                  695 non-null    object        \n",
      " 11  Altura                 129 non-null    float64       \n",
      " 12  Cruce                  525 non-null    object        \n",
      " 13  Dirección Normalizada  688 non-null    object        \n",
      " 14  COMUNA                 696 non-null    int64         \n",
      " 15  XY (CABA)              696 non-null    object        \n",
      " 16  pos x                  696 non-null    object        \n",
      " 17  pos y                  696 non-null    object        \n",
      " 18  PARTICIPANTES          696 non-null    object        \n",
      " 19  VICTIMA                696 non-null    object        \n",
      " 20  ACUSADO                696 non-null    object        \n",
      "dtypes: datetime64[ns](1), float64(1), int64(5), object(14)\n",
      "memory usage: 114.3+ KB\n"
     ]
    }
   ],
   "source": [
    "df_hechos.info()"
   ]
  },
  {
   "cell_type": "markdown",
   "metadata": {},
   "source": [
    "**Emecemos cambiando los titulos de las columnas para mas fasilidad de entendimiento, ademmas usaremos la primera letra en mayusculas y las demas en minuscula, para mejor presentacion**"
   ]
  },
  {
   "cell_type": "code",
   "execution_count": 8,
   "metadata": {},
   "outputs": [
    {
     "data": {
      "text/plain": [
       "Index(['Id', 'Cantidad víctimas', 'Fecha', 'Año', 'Mes', 'Día', 'Hora',\n",
       "       'Hora entera', 'Lugar del hecho', 'Tipo de calle', 'Calle', 'Altura',\n",
       "       'Cruce', 'Dirección normalizada', 'Comuna', 'XY (CABA)', 'Pos x',\n",
       "       'Pos y', 'Participantes', 'Víctima', 'Acusado'],\n",
       "      dtype='object')"
      ]
     },
     "execution_count": 8,
     "metadata": {},
     "output_type": "execute_result"
    }
   ],
   "source": [
    "df_hechos.columns = df_hechos.columns.str.replace('_', ' ') # guiones por espacios\n",
    "df_hechos.columns = [x.capitalize() for x in df_hechos.columns] #  mayúscula letra 1 y resto a minusculas\n",
    "# Cambiamos algunos titulos \n",
    "df_hechos = df_hechos.rename(columns={'N victimas': 'Cantidad víctimas', 'Aaaa':'Año', 'Mm':'Mes', 'Dd':'Día',\n",
    "                                      'Hh':'Hora entera', 'Xy (caba)':'XY (CABA)', 'Victima': 'Víctima'})\n",
    "\n",
    "df_hechos.columns # oservando como quedan los titulares de las columnas"
   ]
  }
 ],
 "metadata": {
  "kernelspec": {
   "display_name": "Python 3",
   "language": "python",
   "name": "python3"
  },
  "language_info": {
   "codemirror_mode": {
    "name": "ipython",
    "version": 3
   },
   "file_extension": ".py",
   "mimetype": "text/x-python",
   "name": "python",
   "nbconvert_exporter": "python",
   "pygments_lexer": "ipython3",
   "version": "3.11.9"
  }
 },
 "nbformat": 4,
 "nbformat_minor": 2
}
