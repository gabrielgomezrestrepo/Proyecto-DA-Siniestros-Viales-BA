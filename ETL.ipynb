{
 "cells": [
  {
   "cell_type": "markdown",
   "metadata": {},
   "source": [
    "# ETL SINIESTROS VIALES \n",
    "# Ciudad Autonoma de Buenos Aires CABA\n",
    "\n",
    "**Por** \n",
    "\n",
    "**Data Analyst**\n",
    "\n",
    "**GABRIEL GOMEZ RESTREPO**"
   ]
  },
  {
   "cell_type": "markdown",
   "metadata": {},
   "source": [
    "\n",
    "\n",
    "\n",
    "Para  los Datasets  este  estudio sobre los accidentes viales de la Ciudad Autonoma de Buenos Aires(CABA), Argentina.\n",
    "recurrimos a consultar  la siguientes links: \n",
    "\n",
    "**Para siniestros**\n",
    "\n",
    "homicidios.xlsx   ( Hechos y Victimas)\n",
    "\n",
    "https://data.buenosaires.gob.ar/dataset/victimas-siniestros-viales\n",
    "\n",
    "**Para poblacion por Comuna** \n",
    "\n",
    "PBP_CO1025.xls   (poblacion por comuna  por edad y sexo)\n",
    "\n",
    "proy_1025_depto_caba.xls   (resumen de PBP_CO1025, poblacion por comuna y por sexo)\n",
    "\n",
    "https://data.buenosaires.gob.ar/dataset/estructura-poblacion\n",
    "\n",
    "\n",
    "http://www.indec.mecon.ar/ftp/cuadros/poblacion\n",
    "\n",
    "**Para Bariios por Comuna** \n",
    "\n",
    "comunas.xlsx  (Barrios por comuna)\n",
    "\n",
    "https://data.buenosaires.gob.ar/dataset/comunas\n",
    "\n",
    "La revision inicial de los datos que hemos otenido requiere de su estraccion tranformacion y  finalmente Cargar o crear una nueva base de datos usando nombres auque similares para  diferenciarlos con las fuentes originales.\n",
    "## Librerias \n",
    "Las siguientes librerias son las que utilice. "
   ]
  },
  {
   "cell_type": "markdown",
   "metadata": {},
   "source": [
    "\n",
    "* **Pandas (import pandas as pd):**\n",
    "Pandas es una biblioteca de Python fundamental en manejo de DataFrame que proporciona estructuras de datos flexibles y herramientas de análisis. \n",
    "\n",
    "* **NumPy (import numpy as np):**\n",
    "NumPy es una biblioteca fundamental en Python para realizar operaciones numéricas.\n",
    "\n",
    "* **%load_ext autoreload y %autoreload 2:**\n",
    "Estos comandos son específicos de los cuadernos Jupyter y se utilizan para recargar automáticamente módulos antes de ejecutar una celda. %load_ext autoreload habilita la recarga automática de módulos, y %autoreload 2 configura la recarga automática para que sea más agresiva y recargue incluso las funciones de los módulos.\n",
    "\n",
    "* **Warnings (import warnings):**\n",
    "El módulo warnings proporciona herramientas para controlar las advertencias que emite Python. En este caso, se está configurando para ignorar las advertencias, lo cual puede ser útil para evitar que las advertencias llenen la salida de la consola y distraigan durante la ejecución del código."
   ]
  },
  {
   "cell_type": "code",
   "execution_count": 313,
   "metadata": {},
   "outputs": [],
   "source": [
    "import numpy as np\n",
    "import pandas as pd\n",
    "from datetime import datetime, time"
   ]
  },
  {
   "cell_type": "markdown",
   "metadata": {},
   "source": [
    "\n",
    "## Funciones \n",
    "\n",
    "* **Las funciones nos ahorran tiempo:**\n",
    ">Esta son las funciones que utilice, generar unas funciones para agilizar nuestras tareas es muy importante evitando muchas acciones repetitivas ademas permiten un proceso mas claro y ordenado a continuacion las relaciono:  "
   ]
  },
  {
   "cell_type": "markdown",
   "metadata": {},
   "source": [
    "# Funcion N°1A 'detalleA_tipos_dato(df)'\n",
    "\n",
    "**APLICACION**\n",
    "\n",
    ">Esta función Crea un nuevo DataFrame a partir del diccionario"
   ]
  },
  {
   "cell_type": "code",
   "execution_count": 314,
   "metadata": {},
   "outputs": [],
   "source": [
    "\n",
    "def detalleA_tipo_dato(df):\n",
    "  \n",
    "    \n",
    "    dic = {\"campo\": [], \"tipoDato\": []}  # Diccionario para almacenar información sobre campos y tipos de datos\n",
    "\n",
    "    for columna in df.columns:  # Recorre cada columna en el DataFrame\n",
    "        dic[\"campo\"].append(columna)  # Agrega el nombre de la columna actual a la lista \"campo\"\n",
    "        tipos_unicos = df[columna].apply(type).unique()  # Obtiene los tipos de datos únicos en la columna actual\n",
    "        dic[\"tipoDato\"].append(tipos_unicos)  # Agrega los tipos de datos únicos a la lista \"tipoDato\"\n",
    "\n",
    "    df_tipos = pd.DataFrame(dic)  # Crea un nuevo DataFrame a partir del diccionario \"dic\"\n",
    "\n",
    "    print(\"TIPOS DE DATOS EN EL DATAFRAME:\")  # Imprime un mensaje este mensaje :\"TIPOS DE DATOS EN EL DATAFRAME:\"\n",
    "    return df_tipos \n"
   ]
  },
  {
   "cell_type": "markdown",
   "metadata": {},
   "source": [
    "# Funcion N°1B 'detalleB_tipos_dato(df)'\n",
    "\n",
    "**APLICACION**\n",
    "\n",
    ">Esta funcion selecciona los tipos para cada columna  por el criterio de objeto \n",
    "\n",
    ">Cuando una columna tiene un solo tipo, lo muestra \n",
    "\n",
    ">Cuando una columna tiene un solo tipo, y tiene nulos  lo muestra como objetos \n",
    "\n",
    ">Cuando una columna tiene varios tipos de datos  los clasifica como objetos \n",
    "\n",
    ">Con esta fucion vemos en detalle  cales son esos tipos de datos clasificados como objetos \n",
    "\n"
   ]
  },
  {
   "cell_type": "code",
   "execution_count": 315,
   "metadata": {},
   "outputs": [],
   "source": [
    "\n",
    "#Esta función recorre las columnas de un DataFrame y muestra el tipo de dato de cada columna,\n",
    "# junto con los tipos de datos únicos si la columna es de tipo objeto.\n",
    "def detalleB_tipos_datos(df):\n",
    "   \n",
    "    for columna, tipo_dato in df.dtypes.items():  # Recorre cada par clave-valor en df.dtypes.items()\n",
    "        if pd.api.types.is_object_dtype(tipo_dato):  # Si el tipo de dato actual es un tipo de objeto\n",
    "            tipos_unicos = df[columna].apply(type).unique()  # Obtiene los tipos de datos únicos en la columna\n",
    "            print(f\"{columna}: {tipos_unicos}\")  # Imprime  la columna que tiene un solo tipo de dato\n",
    "        else:  # Si el tipo de dato actual no es un tipo de objeto\n",
    "            print(f\"{columna}: {tipo_dato}\")  # Imprime  la columna y todos sus tipos de datos\n"
   ]
  },
  {
   "cell_type": "markdown",
   "metadata": {},
   "source": [
    "# Funcion N°1C 'detalleC_tipos_dato(df)'\n",
    "\n",
    "**APLICACION**\n",
    "\n",
    ">Esta funcion selecciona solo las columnas con solo objetos, osea mas de un tipo de datos  \n",
    "\n",
    "*Cuando una columna tiene un solo tipo, y tiene nulos los clasifica tambien como objetos* \n",
    "\n",
    "*Cuando una columna tiene varios tipos de datos los clasifica como objetos* \n"
   ]
  },
  {
   "cell_type": "markdown",
   "metadata": {},
   "source": [
    "# Funcion N°1D 'vista_tipo_datos(df, columna)'\n",
    "\n",
    ">Nos permite ver unas lineas de los tipos de datos y la forma como se muestran en el DataFrame \n",
    "\n",
    ">con el ojeto de tener mas claridad antes de desidir trasformarlos"
   ]
  },
  {
   "cell_type": "code",
   "execution_count": 316,
   "metadata": {},
   "outputs": [],
   "source": [
    "\n",
    "\n",
    "def vista_tipo_datos(df, columna):\n",
    "    # Crear diccionario para almacenar las muestras de filas por tipos de datos\n",
    "    muestras_por_tipos = {}\n",
    "\n",
    "    print(f\"\\n\\nColumna: {columna}\")\n",
    "    # Obtener los tipos de datos únicos en la columna\n",
    "    tipos_datos = df[columna].apply(lambda x: type(x) if x is not None else None).unique()\n",
    "    \n",
    "    for tipo in tipos_datos:\n",
    "        try:\n",
    "            # Filtrar las filas por tipo de dato\n",
    "            if tipo is None:\n",
    "                filas_tipo = df[df[columna].isnull()]\n",
    "            else:\n",
    "                filas_tipo = df[df[columna].apply(lambda x: isinstance(x, tipo))]                            \n",
    "            # Verificar si hay filas del tipo encontrado\n",
    "            if not filas_tipo.empty:\n",
    "                # Guardar el tipo de dato y las primeras 5 filas en el diccionario\n",
    "                muestras_por_tipos[tipo] = filas_tipo[[columna]].head(5)\n",
    "        except Exception as e:\n",
    "            print(f\"Error procesando tipo {tipo} en columna {columna}: {e}\")\n",
    "\n",
    "    return muestras_por_tipos\n",
    "\n"
   ]
  },
  {
   "cell_type": "code",
   "execution_count": 317,
   "metadata": {},
   "outputs": [],
   "source": [
    "\n",
    "\n",
    "def detalleC_tipos_datos(df):\n",
    "   \n",
    "    for columna, tipo_dato in df.dtypes.items():  # Recorre cada par clave-valor en df.dtypes.items()\n",
    "        if pd.api.types.is_object_dtype(tipo_dato):  # Si el tipo de dato actual es un tipo de objeto\n",
    "            tipos_unicos = df[columna].apply(type).unique()  # Obtiene los tipos de datos únicos en la columna\n",
    "            print(f\"{columna}: {tipos_unicos}\")  # Imprime  la columna que tiene un solo tipo de dato\n",
    "        else:  # Si el tipo de dato actual no es un tipo de objeto\n",
    "            print(f\" \")  # Imprime  la columna y todos sus tipos de datos\n"
   ]
  },
  {
   "cell_type": "markdown",
   "metadata": {},
   "source": [
    "\n",
    "## Funcion N°2 'ver_nulos(df)'\n",
    "\n",
    "**PROPOSITO**\n",
    ">El proposito esta funvion es mostrar con relevacia las columnas que tienen nulos en  un DataFrame mortrandonos \n",
    "\n",
    ">el porcentaje,  adicionalmete nos muestra un cuadro de resumen total de null y notnull \n",
    "\n",
    "\n",
    "\n"
   ]
  },
  {
   "cell_type": "code",
   "execution_count": 318,
   "metadata": {},
   "outputs": [],
   "source": [
    "\n",
    "def ver_nulos(df):\n",
    "    # Crear diccionario para almacenar información sobre los nulos y no nulos\n",
    "    dic = {\"campo\": [], \"%notnull\": [], \"%null\": [], \"notnull\": [], \"nulos\": []}      \n",
    "    for columna in df.columns:  # Iterar sobre todos los campos del DataFrame df\n",
    "        # Calcular el porcentaje de No nulos en la columna actual\n",
    "        porcentaje_no_nulos = (df[columna].count() / len(df)) * 100\n",
    "        # Llenar el diccionario\n",
    "        dic[\"campo\"].append(columna)\n",
    "        dic[\"%notnull\"].append(round(porcentaje_no_nulos, 2))      \n",
    "        dic[\"%null\"].append(round(100 - porcentaje_no_nulos, 2))\n",
    "        dic[\"notnull\"].append(df[columna].notnull().sum())\n",
    "        dic[\"nulos\"].append(df[columna].isnull().sum())             \n",
    "\n",
    "    # Crear otro DataFrame con la información nueva \n",
    "    df_nulos = pd.DataFrame(dic)\n",
    "\n",
    "    # Calcular los nulos en el DataFrame      \n",
    "    total_nulos = df.isnull().sum().sum()  \n",
    "\n",
    "    # Imprimir el total de valores nulos\n",
    "    print(f'TOTAL NULOS DataFrame: {total_nulos}')  \n",
    "\n",
    "    # Mostrar los campos o columnas con valores nulos y %\n",
    "    campos_con_nulos = df_nulos[df_nulos[\"nulos\"] > 0][[\"campo\", \"nulos\", \"%null\"]].sort_values(by=\"%null\", ascending=False)\n",
    "    if not campos_con_nulos.empty:\n",
    "        print(\"\\nCAMPOS QUE TIENEN VALORES NULOS Y SU %:\")       \n",
    "        print(campos_con_nulos)\n",
    "\n",
    "    # Retornar el DataFrame con la información de cada columna\n",
    "    return df_nulos  \n",
    "\n",
    "\n"
   ]
  },
  {
   "cell_type": "markdown",
   "metadata": {},
   "source": [
    "## Funcion N°3 'ver_nulos_por_colref(df, colref)'\n",
    "\n",
    "**Muestra un DataFrame con las filas donde la columna referencia elegida (colref),  tiene valores nulos**\n",
    "\n",
    "**Esto permite  filtarar todas las columnas con el mismos'Id' esto es muy util para asociar que pasa con las celdas correspondientes. por ejemplo, ver  que los datos de otra columna podran ser utiles para llenar los nulos, o  considerar su importacia para par ver como una columna con pocoas datos, su eliminacion no, podria afentar las otras  .**"
   ]
  },
  {
   "cell_type": "code",
   "execution_count": 319,
   "metadata": {},
   "outputs": [],
   "source": [
    "#  Muestra un DataFrame con las filas donde la columna referencia elegida (colref), elegida   tiene valores nulos.\n",
    "#  EJEMPLO para ver nulos 'Hora' relacionada con otras columnas : ver_nulos_por_colref(df_hechos, 'Hora')[['Id', 'Hora', 'Hora entera', 'Fecha']]\n",
    "# asi limitamos el numero de columnas y solo llamamos las relacionadas segun nuestro criterio \n",
    "\n",
    "def ver_nulos_por_colref(df, colref):\n",
    "          \n",
    "    if colref not in df.columns:\n",
    "        raise ValueError(f\"La columna '{colref}' no existe en el DataFrame\")\n",
    "        \n",
    "    nulos = df[df[colref].isnull()]\n",
    "    \n",
    "    return nulos\n"
   ]
  },
  {
   "cell_type": "markdown",
   "metadata": {},
   "source": [
    "## Funcion N°4 'def conversor_tiempo(df, columna, valor)'"
   ]
  },
  {
   "cell_type": "code",
   "execution_count": 320,
   "metadata": {},
   "outputs": [],
   "source": [
    "\n",
    "\n",
    "def conversor_tiempo(df, columna, valor):\n",
    "   \n",
    "    def convertir_tiempo(valor):\n",
    "       \n",
    "        #Convierte un valor de tipo tiempo a datetime.time si es posible, truncando los microsegundos.\n",
    "                \n",
    "        #valor: Valor a ser convertido. Puede ser str, datetime.datetime o datetime.time.\n",
    "               \n",
    "        \n",
    "        if isinstance(valor, str):\n",
    "            try:\n",
    "                # Intenta convertir el string a datetime.time\n",
    "                return datetime.strptime(valor, '%H:%M:%S').time()\n",
    "            except ValueError:\n",
    "                try:\n",
    "                    return datetime.strptime(valor, '%H:%M').time()\n",
    "                except ValueError:\n",
    "                    return None\n",
    "        elif isinstance(valor, datetime):\n",
    "            # Si es datetime.datetime, devuelve datetime.time truncando los microsegundos\n",
    "            return valor.replace(microsecond=0).time()\n",
    "        elif isinstance(valor, time):\n",
    "            # Si es datetime.time, no es necesario hacer nada\n",
    "            return valor.replace(microsecond=0)\n",
    "        else:\n",
    "            return None\n",
    "    \n",
    "    # Asigna el valor convertido a la columna especificada en el DataFrame\n",
    "    df[columna] = df[columna].apply(convertir_tiempo)\n",
    "    \n",
    "    return df\n"
   ]
  },
  {
   "cell_type": "markdown",
   "metadata": {},
   "source": [
    "## Funcion N°5A 'imputa_valor_por_moda(df, columna)'\n",
    "\n",
    "*Esta función reemplaza los valores \"SD\" con NaN en la columna especificada,*\n",
    "\n",
    "*luego calcula la moda (el valor más frecuente) en esa columna y utiliza ese valor*\n",
    "\n",
    "*para imputar los valores faltantes (NaN).*"
   ]
  },
  {
   "cell_type": "code",
   "execution_count": 321,
   "metadata": {},
   "outputs": [],
   "source": [
    "def imputa_valor_por_moda(df, columna):\n",
    "\n",
    "    # Se reemplaza \"SD\" con NaN en la columna\n",
    "    df[columna] = df[columna].replace('SD', pd.NA)\n",
    "\n",
    "    # Se calcula el valor más frecuente en la columna\n",
    "    moda = df[columna].mode().iloc[0]\n",
    "    print(f'El valor mas frecuente es: {moda}')\n",
    "\n",
    "    # Se imputan los valores NaN con el valor más frecuente\n",
    "    df[columna].fillna(moda, inplace=True)"
   ]
  },
  {
   "cell_type": "markdown",
   "metadata": {},
   "source": [
    "## Funcion N°5B 'Imputacion_por_colref(df, colref, col_imputadora)'\n",
    "\n",
    "*Imputa los valores nulos de la columna de referencia (colref) utilizando los valores de otra columna (col_imputadora).*\n",
    "\n",
    "*Además, muestra las filas donde la columna de referencia tiene valores nulos antes de la imputación.*"
   ]
  },
  {
   "cell_type": "code",
   "execution_count": 322,
   "metadata": {},
   "outputs": [],
   "source": [
    "import pandas as pd\n",
    "\n",
    "def Imputacion_por_colref(df, colref, col_imputadora):\n",
    "      \n",
    "    #df (pd.DataFrame): DataFrame donde se realizará la imputación.\n",
    "    #colref (str): Nombre de la columna de referencia con valores nulos a imputar.\n",
    "    #col_imputadora (str): Nombre de la columna cuyo valor se usará para imputar.\n",
    "       \n",
    "    # Verificar que las columnas existen en el DataFrame\n",
    "    if colref not in df.columns:\n",
    "        raise ValueError(f\"La columna '{colref}' no existe en el DataFrame\")\n",
    "    if col_imputadora not in df.columns:\n",
    "        raise ValueError(f\"La columna '{col_imputadora}' no existe en el DataFrame\")\n",
    "\n",
    "    # Mostrar las filas donde la columna de referencia tiene valores nulos\n",
    "    nulos = df[df[colref].isnull()]\n",
    "    print(f\"Filas con valores nulos en la columna '{colref}':\")\n",
    "    print(nulos)\n",
    "    \n",
    "    # Imputar los valores nulos de colref usando los valores de col_imputadora\n",
    "    df[colref] = df.apply(\n",
    "        lambda row: row[col_imputadora] if pd.isnull(row[colref]) else row[colref], axis=1\n",
    "    )\n",
    "    \n",
    "    return df\n",
    "\n",
    "# Ejemplo de uso \n",
    "# df = pd.DataFrame({'Hora': [None, '15:45:00', None], 'Hora_entera': ['12:30:00', '15:45:00', '08:00:00'], 'Fecha': ['2022-01-01', '2022-01-02', '2022-01-03']})\n",
    "# df = Imputacion_por_colref(df, 'Hora', 'Hora_entera')\n",
    "# print(df)\n"
   ]
  },
  {
   "cell_type": "markdown",
   "metadata": {},
   "source": [
    "## Funcion N°5C 'imputa_edad_media_por_sexo(df)'\n",
    "\n",
    "*Esta función reemplaza los valores \"SD\" con NaN en la columna 'Edad', calcula la `media` para conseguir la edad promedio*\n",
    "\n",
    "*para cada grupo de género (Femenino y Masculino), imprime los promedios calculados y*\n",
    "\n",
    "*luego llena los valores faltantes en la columna 'Edad' utilizando el promedio correspondiente*\n",
    "\n",
    "*al género al que pertenece cada fila en el DataFrame.*"
   ]
  },
  {
   "cell_type": "code",
   "execution_count": 323,
   "metadata": {},
   "outputs": [],
   "source": [
    "def imputa_edad_media_por_sexo(df):\n",
    "\n",
    "    # Se reemplaza \"SD\" con NaN en la columna 'edad'\n",
    "    df['Edad'] = df['Edad'].replace('SD', pd.NA)\n",
    "\n",
    "    # Se calcula el promedio de edad para cada grupo de género\n",
    "    promedio_por_genero = df.groupby('Sexo')['Edad'].mean()\n",
    "    print(f'La edad promedio de Femenino es {round(promedio_por_genero[\"FEMENINO\"])} y de Masculino es {round(promedio_por_genero[\"MASCULINO\"])}')\n",
    "\n",
    "    # Se llenan los valores NaN en la columna 'edad' utilizando el promedio correspondiente al género\n",
    "    df['Edad'] = df.apply(lambda row: promedio_por_genero[row['Sexo']] if pd.isna(row['Edad']) else row['Edad'], axis=1)\n",
    "    # Lo convierte a entero\n",
    "    df['Edad'] = df['Edad'].astype(int)"
   ]
  },
  {
   "cell_type": "markdown",
   "metadata": {},
   "source": [
    "# CREACION DATAFRAME\n",
    "\n",
    "**EXPLICACION**\n",
    ">De homicidios.xlsx sacamos  df_hechos \n",
    "\n",
    ">Extraemos  de Datasets/Fuente el archivo homicidios.xlsx, lo leemos y creamos el DataFrame  'df_hechos \n",
    "\n"
   ]
  },
  {
   "cell_type": "code",
   "execution_count": 324,
   "metadata": {},
   "outputs": [],
   "source": [
    "df_hechos = pd.read_excel('./Datasets/Fuente/homicidios.xlsx', sheet_name='HECHOS')"
   ]
  },
  {
   "cell_type": "markdown",
   "metadata": {},
   "source": [
    "**Miramos aspectos la informacion general del DataFrame y concluimos a primera vista que:** \n",
    "\n",
    "*Los  titulos de  columnas  algunas estan en mayusculas y otras en minusculas, hay nombres que podrian ser mas fasiles de entender por ejemplo seria mejos 'Año' que AAAA*  \n",
    "\n",
    "*Tenemos la mayoria de las Columnas sin nulos (696) pero  TIPO_DE_CALLE, Calle, Altura, Cruce  si tienen presencia de nulos*\n",
    "\n",
    "*Y tenemos los siguentes  tipos de datos  dtypes: datetime64[ns](1), float64(1), int64(5), object(14)*\n"
   ]
  },
  {
   "cell_type": "code",
   "execution_count": 325,
   "metadata": {},
   "outputs": [
    {
     "name": "stdout",
     "output_type": "stream",
     "text": [
      "<class 'pandas.core.frame.DataFrame'>\n",
      "RangeIndex: 696 entries, 0 to 695\n",
      "Data columns (total 21 columns):\n",
      " #   Column                 Non-Null Count  Dtype         \n",
      "---  ------                 --------------  -----         \n",
      " 0   ID                     696 non-null    object        \n",
      " 1   N_VICTIMAS             696 non-null    int64         \n",
      " 2   FECHA                  696 non-null    datetime64[ns]\n",
      " 3   AAAA                   696 non-null    int64         \n",
      " 4   MM                     696 non-null    int64         \n",
      " 5   DD                     696 non-null    int64         \n",
      " 6   HORA                   696 non-null    object        \n",
      " 7   HH                     696 non-null    object        \n",
      " 8   LUGAR_DEL_HECHO        696 non-null    object        \n",
      " 9   TIPO_DE_CALLE          696 non-null    object        \n",
      " 10  Calle                  695 non-null    object        \n",
      " 11  Altura                 129 non-null    float64       \n",
      " 12  Cruce                  525 non-null    object        \n",
      " 13  Dirección Normalizada  688 non-null    object        \n",
      " 14  COMUNA                 696 non-null    int64         \n",
      " 15  XY (CABA)              696 non-null    object        \n",
      " 16  pos x                  696 non-null    object        \n",
      " 17  pos y                  696 non-null    object        \n",
      " 18  PARTICIPANTES          696 non-null    object        \n",
      " 19  VICTIMA                696 non-null    object        \n",
      " 20  ACUSADO                696 non-null    object        \n",
      "dtypes: datetime64[ns](1), float64(1), int64(5), object(14)\n",
      "memory usage: 114.3+ KB\n"
     ]
    }
   ],
   "source": [
    "df_hechos.info()"
   ]
  },
  {
   "cell_type": "markdown",
   "metadata": {},
   "source": [
    "## ESTANDARIZAR TITULOS"
   ]
  },
  {
   "cell_type": "markdown",
   "metadata": {},
   "source": [
    "#### EXPLICACION\n",
    "\n",
    "* MAYUSCULA   a  May-Minusclula\n",
    "\n",
    "* AAAA   por  Año\n",
    "\n",
    " *Modificamos  la primera letra en mayusculas y las demas en minuscula*\n",
    "\n",
    " *Cambiamoa los titulos de algunas columnas  como para mejorar la fasilidad de comprension* \n",
    " \n",
    " "
   ]
  },
  {
   "cell_type": "code",
   "execution_count": 326,
   "metadata": {},
   "outputs": [
    {
     "data": {
      "text/plain": [
       "Index(['Id', 'Cantidad víctimas', 'Fecha', 'Año', 'Mes', 'Día', 'Hora',\n",
       "       'Hora entera', 'Lugar del hecho', 'Tipo de calle', 'Calle', 'Altura',\n",
       "       'Cruce', 'Dirección normalizada', 'Comuna', 'XY (CABA)', 'Pos x',\n",
       "       'Pos y', 'Participantes', 'Víctima', 'Acusado'],\n",
       "      dtype='object')"
      ]
     },
     "execution_count": 326,
     "metadata": {},
     "output_type": "execute_result"
    }
   ],
   "source": [
    "df_hechos.columns = df_hechos.columns.str.replace('_', ' ') # guiones por espacios\n",
    "df_hechos.columns = [x.capitalize() for x in df_hechos.columns] #  mayúscula letra 1 y resto a minusculas\n",
    "# Cambiamos algunos titulos \n",
    "df_hechos = df_hechos.rename(columns={'N victimas': 'Cantidad víctimas', 'Aaaa':'Año', 'Mm':'Mes', 'Dd':'Día',\n",
    "                                      'Hh':'Hora entera', 'Xy (caba)':'XY (CABA)', 'Victima': 'Víctima'})\n",
    "\n",
    "df_hechos.columns # oservando como quedan los titulares de las columnas"
   ]
  },
  {
   "cell_type": "markdown",
   "metadata": {},
   "source": [
    "# NORMALIZAR TIPOS DE DATOS \n",
    "\n",
    "**EXPLICACION**\n",
    ">Ya hemos notado que para este analisis no podriamos dejar df_hechos sin acomodar el tipo de datos a nuestro requerimientos  \n",
    "\n",
    ">No, no es obligatorio en un DataFrame de pandas contar con un solo tipo de dato por columna. Pandas es una herramienta flexible que permite almacenar diferentes tipos de datos en cada columna de un DataFrame. \n",
    "\n",
    "Sin embargo, **en general, se recomienda tener un único tipo de dato por columna para facilitar el análisis y la manipulación de datos**. Esto se debe a que:\n",
    "\n",
    "- **Simplicidad:** Al tener un solo tipo de dato por columna, las operaciones matemáticas y de análisis se vuelven más sencillas y directas. Pandas no necesita realizar conversiones de tipo de dato entre elementos de la misma columna, lo que mejora el rendimiento y la legibilidad del código.\n",
    "\n",
    "- **Consistencia:** Un DataFrame con tipos de datos consistentes en cada columna facilita la comprensión de la estructura del mismo y la interpretación de los resultados de análisis. \n",
    "\n",
    "- **Herramientas de análisis:** Muchas herramientas y funciones de pandas están diseñadas específicamente para trabajar con un solo tipo de dato por columna. Si se mezclan tipos de datos, es posible que estas herramientas no funcionen correctamente o generen resultados inesperados.\n",
    "\n",
    "**Excepciones:**\n",
    "\n",
    "- **Columnas de texto:** En algunos casos, puede ser necesario tener una columna de texto (tipo `object`) para almacenar datos no numéricos, como nombres, descripciones o categorías.\n",
    "\n",
    "- **Columnas con datos mixtos:** En situaciones específicas, puede ser útil tener una columna con datos mixtos, como números y cadenas de texto. Sin embargo, esto debe manejarse con cuidado y se recomienda evaluar si la estructura del DataFrame es la más adecuada para el análisis que se pretende realizar.\n",
    "\n",
    "**En resumen:**\n",
    "\n",
    "Si bien no es obligatorio tener un solo tipo de dato por columna en un DataFrame, se recomienda encarecidamente hacerlo para facilitar el análisis, la manipulación y la comprensión de los datos. Si necesita almacenar datos de diferentes tipos, considere utilizar columnas separadas o estructuras de datos alternativas, como Series de pandas o DataFrames anidados.\n"
   ]
  },
  {
   "cell_type": "markdown",
   "metadata": {},
   "source": [
    "**VISUALIZAMOS LOS TIPOS DE DATOS DEL DATAFRAME**\n",
    "\n",
    ">dt_hechos\n",
    "\n",
    "*usamos la Funcion N°1B 'detalleB_tipo_dato(df)'*\n",
    "\n",
    "*que nos permite ver todos los tipos de datos por columna*"
   ]
  },
  {
   "cell_type": "code",
   "execution_count": 327,
   "metadata": {},
   "outputs": [
    {
     "name": "stdout",
     "output_type": "stream",
     "text": [
      "Id: [<class 'str'>]\n",
      "Cantidad víctimas: int64\n",
      "Fecha: datetime64[ns]\n",
      "Año: int64\n",
      "Mes: int64\n",
      "Día: int64\n",
      "Hora: [<class 'datetime.time'> <class 'str'> <class 'datetime.datetime'>]\n",
      "Hora entera: [<class 'int'> <class 'str'>]\n",
      "Lugar del hecho: [<class 'str'>]\n",
      "Tipo de calle: [<class 'str'>]\n",
      "Calle: [<class 'str'> <class 'float'>]\n",
      "Altura: float64\n",
      "Cruce: [<class 'str'> <class 'float'>]\n",
      "Dirección normalizada: [<class 'str'> <class 'float'>]\n",
      "Comuna: int64\n",
      "XY (CABA): [<class 'str'>]\n",
      "Pos x: [<class 'str'>]\n",
      "Pos y: [<class 'str'>]\n",
      "Participantes: [<class 'str'>]\n",
      "Víctima: [<class 'str'>]\n",
      "Acusado: [<class 'str'>]\n"
     ]
    }
   ],
   "source": [
    "detalleB_tipos_datos(df_hechos)\n"
   ]
  },
  {
   "cell_type": "markdown",
   "metadata": {},
   "source": [
    "### SOLO COLUMAS CON MULTIPLES TIPOS DE DATOS\n",
    "\n",
    " *Elegimos solo las columnas con datos multiples o tipo objeto y para eso usamos la Funcion N°1C 'detalleC_tipo_dato(df)'*\n",
    "\n"
   ]
  },
  {
   "cell_type": "code",
   "execution_count": 328,
   "metadata": {},
   "outputs": [
    {
     "name": "stdout",
     "output_type": "stream",
     "text": [
      "Id: [<class 'str'>]\n",
      " \n",
      " \n",
      " \n",
      " \n",
      " \n",
      "Hora: [<class 'datetime.time'> <class 'str'> <class 'datetime.datetime'>]\n",
      "Hora entera: [<class 'int'> <class 'str'>]\n",
      "Lugar del hecho: [<class 'str'>]\n",
      "Tipo de calle: [<class 'str'>]\n",
      "Calle: [<class 'str'> <class 'float'>]\n",
      " \n",
      "Cruce: [<class 'str'> <class 'float'>]\n",
      "Dirección normalizada: [<class 'str'> <class 'float'>]\n",
      " \n",
      "XY (CABA): [<class 'str'>]\n",
      "Pos x: [<class 'str'>]\n",
      "Pos y: [<class 'str'>]\n",
      "Participantes: [<class 'str'>]\n",
      "Víctima: [<class 'str'>]\n",
      "Acusado: [<class 'str'>]\n"
     ]
    }
   ],
   "source": [
    "detalleC_tipos_datos(df_hechos)"
   ]
  },
  {
   "cell_type": "markdown",
   "metadata": {},
   "source": [
    "**ANALISAMOS EL RESULTADO**"
   ]
  },
  {
   "cell_type": "markdown",
   "metadata": {},
   "source": [
    "\n",
    ">`Hora` Esta colunna es la que tiene mas tipos de datos(3): \n",
    "\n",
    "*(datetime.time , datetime.datetime y str)*\n",
    " \n",
    "\n",
    ">`'Calle', 'Cruce' y 'Dirección normalizada'`  tienen tipos de datos:\n",
    "\n",
    "*(str y float)*\n",
    "\n",
    "> `'Hora entera'`  tambien tiene dos tipos: \n",
    "\n",
    "*(str y int)*\n",
    "\n",
    ">`'Id', 'Lugar del hecho', 'Tipo de calle',  'XY (CABA)', 'Pos x', 'Pos y', 'Participantes'`,\n",
    "\n",
    "> `'Víctima' y 'Acusado'` tienen nulos y un solo tipo de dato:\n",
    "\n",
    "*(null y str)* \n",
    "\n",
    "  "
   ]
  },
  {
   "cell_type": "markdown",
   "metadata": {},
   "source": [
    "**Vamos  la cantidad de celdas por tipo de dato de la columna  `Hora`** "
   ]
  },
  {
   "cell_type": "code",
   "execution_count": 329,
   "metadata": {},
   "outputs": [
    {
     "data": {
      "text/plain": [
       "Hora\n",
       "<class 'datetime.time'>        608\n",
       "<class 'str'>                   85\n",
       "<class 'datetime.datetime'>      3\n",
       "Name: count, dtype: int64"
      ]
     },
     "execution_count": 329,
     "metadata": {},
     "output_type": "execute_result"
    }
   ],
   "source": [
    "\n",
    "df_hechos['Hora'].apply(type).value_counts()"
   ]
  },
  {
   "cell_type": "markdown",
   "metadata": {},
   "source": [
    "**VISTAZO**\n",
    "\n",
    " df_hechos['Hora']\n",
    "\n",
    " *Para formarnos una idea mas clara hacemos un breve pantallazo usando la  Funcion N°1D 'vista_tipo_datos(df, columna)'*\n",
    "\n",
    " >Asi podemos ver la forma de estos tres tipos de Datos de la columna `Hora` y es posible que tambien fifuren algunos nulos, aqui tambien se vera"
   ]
  },
  {
   "cell_type": "markdown",
   "metadata": {},
   "source": [
    "# Funcion N°1D 'vista_tipo_datos(df, columna)'"
   ]
  },
  {
   "cell_type": "code",
   "execution_count": 330,
   "metadata": {},
   "outputs": [
    {
     "name": "stdout",
     "output_type": "stream",
     "text": [
      "\n",
      "\n",
      "Columna: Hora\n"
     ]
    },
    {
     "data": {
      "text/plain": [
       "{datetime.time:        Hora\n",
       " 0  04:00:00\n",
       " 1  01:15:00\n",
       " 2  07:00:00\n",
       " 3  00:00:00\n",
       " 4  05:20:00,\n",
       " str:          Hora\n",
       " 275  22:50:00\n",
       " 276  16:40:00\n",
       " 277  10:12:00\n",
       " 278  09:40:00\n",
       " 279  22:30:00,\n",
       " datetime.datetime:                     Hora\n",
       " 439  1900-01-02 00:00:00\n",
       " 441  1900-01-14 07:12:00\n",
       " 496  1900-01-04 18:40:00}"
      ]
     },
     "execution_count": 330,
     "metadata": {},
     "output_type": "execute_result"
    }
   ],
   "source": [
    "vista_tipo_datos(df_hechos,'Hora')"
   ]
  },
  {
   "cell_type": "markdown",
   "metadata": {},
   "source": [
    "**CONVERSION TIEMPO**\n",
    "\n",
    "*Unificamos el tipo de dato ('datetime.time') para todas las celdas de la columna `Hora`*\n",
    "\n",
    "*usando la funcion Funcion N°4 'def conversor_tiempo(df, columna, valor)'*"
   ]
  },
  {
   "cell_type": "code",
   "execution_count": 331,
   "metadata": {},
   "outputs": [
    {
     "data": {
      "text/html": [
       "<div>\n",
       "<style scoped>\n",
       "    .dataframe tbody tr th:only-of-type {\n",
       "        vertical-align: middle;\n",
       "    }\n",
       "\n",
       "    .dataframe tbody tr th {\n",
       "        vertical-align: top;\n",
       "    }\n",
       "\n",
       "    .dataframe thead th {\n",
       "        text-align: right;\n",
       "    }\n",
       "</style>\n",
       "<table border=\"1\" class=\"dataframe\">\n",
       "  <thead>\n",
       "    <tr style=\"text-align: right;\">\n",
       "      <th></th>\n",
       "      <th>Id</th>\n",
       "      <th>Cantidad víctimas</th>\n",
       "      <th>Fecha</th>\n",
       "      <th>Año</th>\n",
       "      <th>Mes</th>\n",
       "      <th>Día</th>\n",
       "      <th>Hora</th>\n",
       "      <th>Hora entera</th>\n",
       "      <th>Lugar del hecho</th>\n",
       "      <th>Tipo de calle</th>\n",
       "      <th>...</th>\n",
       "      <th>Altura</th>\n",
       "      <th>Cruce</th>\n",
       "      <th>Dirección normalizada</th>\n",
       "      <th>Comuna</th>\n",
       "      <th>XY (CABA)</th>\n",
       "      <th>Pos x</th>\n",
       "      <th>Pos y</th>\n",
       "      <th>Participantes</th>\n",
       "      <th>Víctima</th>\n",
       "      <th>Acusado</th>\n",
       "    </tr>\n",
       "  </thead>\n",
       "  <tbody>\n",
       "    <tr>\n",
       "      <th>0</th>\n",
       "      <td>2016-0001</td>\n",
       "      <td>1</td>\n",
       "      <td>2016-01-01</td>\n",
       "      <td>2016</td>\n",
       "      <td>1</td>\n",
       "      <td>1</td>\n",
       "      <td>04:00:00</td>\n",
       "      <td>4</td>\n",
       "      <td>AV PIEDRA BUENA Y AV FERNANDEZ DE LA CRUZ</td>\n",
       "      <td>AVENIDA</td>\n",
       "      <td>...</td>\n",
       "      <td>NaN</td>\n",
       "      <td>FERNANDEZ DE LA CRUZ, F., GRAL. AV.</td>\n",
       "      <td>PIEDRA BUENA AV. y FERNANDEZ DE LA CRUZ, F., G...</td>\n",
       "      <td>8</td>\n",
       "      <td>Point (98896.78238426 93532.43437792)</td>\n",
       "      <td>-58.47533969</td>\n",
       "      <td>-34.68757022</td>\n",
       "      <td>MOTO-AUTO</td>\n",
       "      <td>MOTO</td>\n",
       "      <td>AUTO</td>\n",
       "    </tr>\n",
       "    <tr>\n",
       "      <th>1</th>\n",
       "      <td>2016-0002</td>\n",
       "      <td>1</td>\n",
       "      <td>2016-01-02</td>\n",
       "      <td>2016</td>\n",
       "      <td>1</td>\n",
       "      <td>2</td>\n",
       "      <td>01:15:00</td>\n",
       "      <td>1</td>\n",
       "      <td>AV GRAL PAZ  Y AV DE LOS CORRALES</td>\n",
       "      <td>GRAL PAZ</td>\n",
       "      <td>...</td>\n",
       "      <td>NaN</td>\n",
       "      <td>DE LOS CORRALES AV.</td>\n",
       "      <td>PAZ, GRAL. AV. y DE LOS CORRALES AV.</td>\n",
       "      <td>9</td>\n",
       "      <td>Point (95832.05571093 95505.41641999)</td>\n",
       "      <td>-58.50877521</td>\n",
       "      <td>-34.66977709</td>\n",
       "      <td>AUTO-PASAJEROS</td>\n",
       "      <td>AUTO</td>\n",
       "      <td>PASAJEROS</td>\n",
       "    </tr>\n",
       "    <tr>\n",
       "      <th>2</th>\n",
       "      <td>2016-0003</td>\n",
       "      <td>1</td>\n",
       "      <td>2016-01-03</td>\n",
       "      <td>2016</td>\n",
       "      <td>1</td>\n",
       "      <td>3</td>\n",
       "      <td>07:00:00</td>\n",
       "      <td>7</td>\n",
       "      <td>AV ENTRE RIOS 2034</td>\n",
       "      <td>AVENIDA</td>\n",
       "      <td>...</td>\n",
       "      <td>2034.0</td>\n",
       "      <td>NaN</td>\n",
       "      <td>ENTRE RIOS AV. 2034</td>\n",
       "      <td>1</td>\n",
       "      <td>Point (106684.29090040 99706.57687843)</td>\n",
       "      <td>-58.39040293</td>\n",
       "      <td>-34.63189362</td>\n",
       "      <td>MOTO-AUTO</td>\n",
       "      <td>MOTO</td>\n",
       "      <td>AUTO</td>\n",
       "    </tr>\n",
       "    <tr>\n",
       "      <th>3</th>\n",
       "      <td>2016-0004</td>\n",
       "      <td>1</td>\n",
       "      <td>2016-01-10</td>\n",
       "      <td>2016</td>\n",
       "      <td>1</td>\n",
       "      <td>10</td>\n",
       "      <td>00:00:00</td>\n",
       "      <td>0</td>\n",
       "      <td>AV LARRAZABAL Y GRAL VILLEGAS CONRADO</td>\n",
       "      <td>AVENIDA</td>\n",
       "      <td>...</td>\n",
       "      <td>NaN</td>\n",
       "      <td>VILLEGAS, CONRADO, GRAL.</td>\n",
       "      <td>LARRAZABAL AV. y VILLEGAS, CONRADO, GRAL.</td>\n",
       "      <td>8</td>\n",
       "      <td>Point (99840.65224780 94269.16534422)</td>\n",
       "      <td>-58.46503904</td>\n",
       "      <td>-34.68092974</td>\n",
       "      <td>MOTO-SD</td>\n",
       "      <td>MOTO</td>\n",
       "      <td>SD</td>\n",
       "    </tr>\n",
       "    <tr>\n",
       "      <th>4</th>\n",
       "      <td>2016-0005</td>\n",
       "      <td>1</td>\n",
       "      <td>2016-01-21</td>\n",
       "      <td>2016</td>\n",
       "      <td>1</td>\n",
       "      <td>21</td>\n",
       "      <td>05:20:00</td>\n",
       "      <td>5</td>\n",
       "      <td>AV SAN JUAN Y PRESIDENTE LUIS SAENZ PEÑA</td>\n",
       "      <td>AVENIDA</td>\n",
       "      <td>...</td>\n",
       "      <td>NaN</td>\n",
       "      <td>SAENZ PE?A, LUIS, PRES.</td>\n",
       "      <td>SAN JUAN AV. y SAENZ PEÃ‘A, LUIS, PRES.</td>\n",
       "      <td>1</td>\n",
       "      <td>Point (106980.32827929 100752.16915795)</td>\n",
       "      <td>-58.38718297</td>\n",
       "      <td>-34.62246630</td>\n",
       "      <td>MOTO-PASAJEROS</td>\n",
       "      <td>MOTO</td>\n",
       "      <td>PASAJEROS</td>\n",
       "    </tr>\n",
       "    <tr>\n",
       "      <th>...</th>\n",
       "      <td>...</td>\n",
       "      <td>...</td>\n",
       "      <td>...</td>\n",
       "      <td>...</td>\n",
       "      <td>...</td>\n",
       "      <td>...</td>\n",
       "      <td>...</td>\n",
       "      <td>...</td>\n",
       "      <td>...</td>\n",
       "      <td>...</td>\n",
       "      <td>...</td>\n",
       "      <td>...</td>\n",
       "      <td>...</td>\n",
       "      <td>...</td>\n",
       "      <td>...</td>\n",
       "      <td>...</td>\n",
       "      <td>...</td>\n",
       "      <td>...</td>\n",
       "      <td>...</td>\n",
       "      <td>...</td>\n",
       "      <td>...</td>\n",
       "    </tr>\n",
       "    <tr>\n",
       "      <th>691</th>\n",
       "      <td>2021-0093</td>\n",
       "      <td>1</td>\n",
       "      <td>2021-12-13</td>\n",
       "      <td>2021</td>\n",
       "      <td>12</td>\n",
       "      <td>13</td>\n",
       "      <td>17:10:00</td>\n",
       "      <td>17</td>\n",
       "      <td>AV. RIESTRA Y MOM</td>\n",
       "      <td>AVENIDA</td>\n",
       "      <td>...</td>\n",
       "      <td>NaN</td>\n",
       "      <td>MOM</td>\n",
       "      <td>RIESTRA AV. y MOM</td>\n",
       "      <td>7</td>\n",
       "      <td>Point (102728.60090138 98186.24929177)</td>\n",
       "      <td>-58.43353773</td>\n",
       "      <td>-34.64561636</td>\n",
       "      <td>MOTO-AUTO</td>\n",
       "      <td>MOTO</td>\n",
       "      <td>AUTO</td>\n",
       "    </tr>\n",
       "    <tr>\n",
       "      <th>692</th>\n",
       "      <td>2021-0094</td>\n",
       "      <td>1</td>\n",
       "      <td>2021-12-20</td>\n",
       "      <td>2021</td>\n",
       "      <td>12</td>\n",
       "      <td>20</td>\n",
       "      <td>01:10:00</td>\n",
       "      <td>1</td>\n",
       "      <td>AU DELLEPIANE Y LACARRA</td>\n",
       "      <td>AUTOPISTA</td>\n",
       "      <td>...</td>\n",
       "      <td>NaN</td>\n",
       "      <td>LACARRA AV.</td>\n",
       "      <td>DELLEPIANE, LUIS, TTE. GRAL. y LACARRA AV.</td>\n",
       "      <td>9</td>\n",
       "      <td>Point (99624.29795829 97569.69801131)</td>\n",
       "      <td>-58.46739825</td>\n",
       "      <td>-34.65117757</td>\n",
       "      <td>MOTO-AUTO</td>\n",
       "      <td>MOTO</td>\n",
       "      <td>AUTO</td>\n",
       "    </tr>\n",
       "    <tr>\n",
       "      <th>693</th>\n",
       "      <td>2021-0095</td>\n",
       "      <td>1</td>\n",
       "      <td>2021-12-30</td>\n",
       "      <td>2021</td>\n",
       "      <td>12</td>\n",
       "      <td>30</td>\n",
       "      <td>00:43:00</td>\n",
       "      <td>0</td>\n",
       "      <td>AV. GAONA Y TERRADA</td>\n",
       "      <td>AVENIDA</td>\n",
       "      <td>...</td>\n",
       "      <td>NaN</td>\n",
       "      <td>TERRADA</td>\n",
       "      <td>GAONA AV. y TERRADA</td>\n",
       "      <td>11</td>\n",
       "      <td>Point (99116.45492358 101045.23284826)</td>\n",
       "      <td>-58.47293407</td>\n",
       "      <td>-34.61984745</td>\n",
       "      <td>MOTO-CARGAS</td>\n",
       "      <td>MOTO</td>\n",
       "      <td>CARGAS</td>\n",
       "    </tr>\n",
       "    <tr>\n",
       "      <th>694</th>\n",
       "      <td>2021-0096</td>\n",
       "      <td>1</td>\n",
       "      <td>2021-12-15</td>\n",
       "      <td>2021</td>\n",
       "      <td>12</td>\n",
       "      <td>15</td>\n",
       "      <td>10:30:00</td>\n",
       "      <td>10</td>\n",
       "      <td>AV. EVA PERON 4071</td>\n",
       "      <td>AVENIDA</td>\n",
       "      <td>...</td>\n",
       "      <td>4071.0</td>\n",
       "      <td>NaN</td>\n",
       "      <td>PERON, EVA AV. 4071</td>\n",
       "      <td>9</td>\n",
       "      <td>Point (99324.54463985 97676.26932409)</td>\n",
       "      <td>-58.47066794</td>\n",
       "      <td>-34.65021673</td>\n",
       "      <td>AUTO-CARGAS</td>\n",
       "      <td>AUTO</td>\n",
       "      <td>CARGAS</td>\n",
       "    </tr>\n",
       "    <tr>\n",
       "      <th>695</th>\n",
       "      <td>2021-0097</td>\n",
       "      <td>1</td>\n",
       "      <td>2021-11-18</td>\n",
       "      <td>2021</td>\n",
       "      <td>11</td>\n",
       "      <td>18</td>\n",
       "      <td>06:10:00</td>\n",
       "      <td>6</td>\n",
       "      <td>PADRE CARLOS MUJICA 709</td>\n",
       "      <td>CALLE</td>\n",
       "      <td>...</td>\n",
       "      <td>709.0</td>\n",
       "      <td>NaN</td>\n",
       "      <td>PADRE CARLOS MUGICA 709</td>\n",
       "      <td>1</td>\n",
       "      <td>Point (107664.16647795 104708.63962087)</td>\n",
       "      <td>-58.37976155</td>\n",
       "      <td>-34.58679619</td>\n",
       "      <td>BICICLETA-AUTO</td>\n",
       "      <td>BICICLETA</td>\n",
       "      <td>AUTO</td>\n",
       "    </tr>\n",
       "  </tbody>\n",
       "</table>\n",
       "<p>696 rows × 21 columns</p>\n",
       "</div>"
      ],
      "text/plain": [
       "            Id  Cantidad víctimas      Fecha   Año  Mes  Día      Hora  \\\n",
       "0    2016-0001                  1 2016-01-01  2016    1    1  04:00:00   \n",
       "1    2016-0002                  1 2016-01-02  2016    1    2  01:15:00   \n",
       "2    2016-0003                  1 2016-01-03  2016    1    3  07:00:00   \n",
       "3    2016-0004                  1 2016-01-10  2016    1   10  00:00:00   \n",
       "4    2016-0005                  1 2016-01-21  2016    1   21  05:20:00   \n",
       "..         ...                ...        ...   ...  ...  ...       ...   \n",
       "691  2021-0093                  1 2021-12-13  2021   12   13  17:10:00   \n",
       "692  2021-0094                  1 2021-12-20  2021   12   20  01:10:00   \n",
       "693  2021-0095                  1 2021-12-30  2021   12   30  00:43:00   \n",
       "694  2021-0096                  1 2021-12-15  2021   12   15  10:30:00   \n",
       "695  2021-0097                  1 2021-11-18  2021   11   18  06:10:00   \n",
       "\n",
       "    Hora entera                            Lugar del hecho Tipo de calle  ...  \\\n",
       "0             4  AV PIEDRA BUENA Y AV FERNANDEZ DE LA CRUZ       AVENIDA  ...   \n",
       "1             1          AV GRAL PAZ  Y AV DE LOS CORRALES      GRAL PAZ  ...   \n",
       "2             7                         AV ENTRE RIOS 2034       AVENIDA  ...   \n",
       "3             0      AV LARRAZABAL Y GRAL VILLEGAS CONRADO       AVENIDA  ...   \n",
       "4             5  AV SAN JUAN Y PRESIDENTE LUIS SAENZ PEÑA        AVENIDA  ...   \n",
       "..          ...                                        ...           ...  ...   \n",
       "691          17                          AV. RIESTRA Y MOM       AVENIDA  ...   \n",
       "692           1                    AU DELLEPIANE Y LACARRA     AUTOPISTA  ...   \n",
       "693           0                        AV. GAONA Y TERRADA       AVENIDA  ...   \n",
       "694          10                         AV. EVA PERON 4071       AVENIDA  ...   \n",
       "695           6                    PADRE CARLOS MUJICA 709         CALLE  ...   \n",
       "\n",
       "     Altura                                Cruce  \\\n",
       "0       NaN  FERNANDEZ DE LA CRUZ, F., GRAL. AV.   \n",
       "1       NaN                  DE LOS CORRALES AV.   \n",
       "2    2034.0                                  NaN   \n",
       "3       NaN             VILLEGAS, CONRADO, GRAL.   \n",
       "4       NaN              SAENZ PE?A, LUIS, PRES.   \n",
       "..      ...                                  ...   \n",
       "691     NaN                                  MOM   \n",
       "692     NaN                          LACARRA AV.   \n",
       "693     NaN                              TERRADA   \n",
       "694  4071.0                                  NaN   \n",
       "695   709.0                                  NaN   \n",
       "\n",
       "                                 Dirección normalizada Comuna  \\\n",
       "0    PIEDRA BUENA AV. y FERNANDEZ DE LA CRUZ, F., G...      8   \n",
       "1                 PAZ, GRAL. AV. y DE LOS CORRALES AV.      9   \n",
       "2                                  ENTRE RIOS AV. 2034      1   \n",
       "3            LARRAZABAL AV. y VILLEGAS, CONRADO, GRAL.      8   \n",
       "4              SAN JUAN AV. y SAENZ PEÃ‘A, LUIS, PRES.      1   \n",
       "..                                                 ...    ...   \n",
       "691                                  RIESTRA AV. y MOM      7   \n",
       "692         DELLEPIANE, LUIS, TTE. GRAL. y LACARRA AV.      9   \n",
       "693                                GAONA AV. y TERRADA     11   \n",
       "694                                PERON, EVA AV. 4071      9   \n",
       "695                            PADRE CARLOS MUGICA 709      1   \n",
       "\n",
       "                                   XY (CABA)         Pos x         Pos y  \\\n",
       "0      Point (98896.78238426 93532.43437792)  -58.47533969  -34.68757022   \n",
       "1      Point (95832.05571093 95505.41641999)  -58.50877521  -34.66977709   \n",
       "2     Point (106684.29090040 99706.57687843)  -58.39040293  -34.63189362   \n",
       "3      Point (99840.65224780 94269.16534422)  -58.46503904  -34.68092974   \n",
       "4    Point (106980.32827929 100752.16915795)  -58.38718297  -34.62246630   \n",
       "..                                       ...           ...           ...   \n",
       "691   Point (102728.60090138 98186.24929177)  -58.43353773  -34.64561636   \n",
       "692    Point (99624.29795829 97569.69801131)  -58.46739825  -34.65117757   \n",
       "693   Point (99116.45492358 101045.23284826)  -58.47293407  -34.61984745   \n",
       "694    Point (99324.54463985 97676.26932409)  -58.47066794  -34.65021673   \n",
       "695  Point (107664.16647795 104708.63962087)  -58.37976155  -34.58679619   \n",
       "\n",
       "      Participantes    Víctima    Acusado  \n",
       "0         MOTO-AUTO       MOTO       AUTO  \n",
       "1    AUTO-PASAJEROS       AUTO  PASAJEROS  \n",
       "2         MOTO-AUTO       MOTO       AUTO  \n",
       "3           MOTO-SD       MOTO         SD  \n",
       "4    MOTO-PASAJEROS       MOTO  PASAJEROS  \n",
       "..              ...        ...        ...  \n",
       "691       MOTO-AUTO       MOTO       AUTO  \n",
       "692       MOTO-AUTO       MOTO       AUTO  \n",
       "693     MOTO-CARGAS       MOTO     CARGAS  \n",
       "694     AUTO-CARGAS       AUTO     CARGAS  \n",
       "695  BICICLETA-AUTO  BICICLETA       AUTO  \n",
       "\n",
       "[696 rows x 21 columns]"
      ]
     },
     "execution_count": 331,
     "metadata": {},
     "output_type": "execute_result"
    }
   ],
   "source": [
    "conversor_tiempo(df_hechos, 'Hora' , datetime.time)"
   ]
  },
  {
   "cell_type": "markdown",
   "metadata": {},
   "source": [
    "**vemos la columna 'Hora'con tipos de datos (condatetime.time)**"
   ]
  },
  {
   "cell_type": "code",
   "execution_count": 332,
   "metadata": {},
   "outputs": [
    {
     "data": {
      "text/plain": [
       "0      04:00:00\n",
       "1      01:15:00\n",
       "2      07:00:00\n",
       "3      00:00:00\n",
       "4      05:20:00\n",
       "         ...   \n",
       "691    17:10:00\n",
       "692    01:10:00\n",
       "693    00:43:00\n",
       "694    10:30:00\n",
       "695    06:10:00\n",
       "Name: Hora, Length: 696, dtype: object"
      ]
     },
     "execution_count": 332,
     "metadata": {},
     "output_type": "execute_result"
    }
   ],
   "source": [
    "df_hechos['Hora']"
   ]
  },
  {
   "cell_type": "markdown",
   "metadata": {},
   "source": [
    "**Nos muestra que ha quedado un null y por eso no tiene dato** "
   ]
  },
  {
   "cell_type": "code",
   "execution_count": 333,
   "metadata": {},
   "outputs": [
    {
     "data": {
      "text/plain": [
       "Hora\n",
       "<class 'datetime.time'>    695\n",
       "<class 'NoneType'>           1\n",
       "Name: count, dtype: int64"
      ]
     },
     "execution_count": 333,
     "metadata": {},
     "output_type": "execute_result"
    }
   ],
   "source": [
    "df_hechos['Hora'].apply(type).value_counts()"
   ]
  },
  {
   "cell_type": "code",
   "execution_count": 334,
   "metadata": {},
   "outputs": [
    {
     "name": "stdout",
     "output_type": "stream",
     "text": [
      "\n",
      "\n",
      "Columna: Hora\n"
     ]
    },
    {
     "data": {
      "text/plain": [
       "{datetime.time:        Hora\n",
       " 0  04:00:00\n",
       " 1  01:15:00\n",
       " 2  07:00:00\n",
       " 3  00:00:00\n",
       " 4  05:20:00,\n",
       " None:      Hora\n",
       " 518  None}"
      ]
     },
     "execution_count": 334,
     "metadata": {},
     "output_type": "execute_result"
    }
   ],
   "source": [
    "vista_tipo_datos(df_hechos, 'Hora')"
   ]
  },
  {
   "cell_type": "markdown",
   "metadata": {},
   "source": []
  },
  {
   "cell_type": "code",
   "execution_count": 335,
   "metadata": {},
   "outputs": [
    {
     "data": {
      "text/html": [
       "<div>\n",
       "<style scoped>\n",
       "    .dataframe tbody tr th:only-of-type {\n",
       "        vertical-align: middle;\n",
       "    }\n",
       "\n",
       "    .dataframe tbody tr th {\n",
       "        vertical-align: top;\n",
       "    }\n",
       "\n",
       "    .dataframe thead th {\n",
       "        text-align: right;\n",
       "    }\n",
       "</style>\n",
       "<table border=\"1\" class=\"dataframe\">\n",
       "  <thead>\n",
       "    <tr style=\"text-align: right;\">\n",
       "      <th></th>\n",
       "      <th>Id</th>\n",
       "      <th>Hora</th>\n",
       "      <th>Hora entera</th>\n",
       "      <th>Fecha</th>\n",
       "    </tr>\n",
       "  </thead>\n",
       "  <tbody>\n",
       "    <tr>\n",
       "      <th>518</th>\n",
       "      <td>2019-0103</td>\n",
       "      <td>None</td>\n",
       "      <td>SD</td>\n",
       "      <td>2019-12-18</td>\n",
       "    </tr>\n",
       "  </tbody>\n",
       "</table>\n",
       "</div>"
      ],
      "text/plain": [
       "            Id  Hora Hora entera      Fecha\n",
       "518  2019-0103  None          SD 2019-12-18"
      ]
     },
     "execution_count": 335,
     "metadata": {},
     "output_type": "execute_result"
    }
   ],
   "source": [
    "ver_nulos_por_colref(df_hechos, 'Hora')[['Id', 'Hora', 'Hora entera', 'Fecha']]"
   ]
  },
  {
   "cell_type": "markdown",
   "metadata": {},
   "source": [
    "**IMPUTANDO**\n",
    "\n",
    "*imputamos la unica celda vacia usando  la funcion Funcion N°5A`imputa_valor_por_moda(df_hechos, 'Hora')` para garantizar que los tipos de datos*\n",
    "\n",
    "*queden bajo nuestro criterio y no dejar nada al azar, la opcion de eliminar la fila la considere pero prefiero no perder el resto de informacion*"
   ]
  },
  {
   "cell_type": "code",
   "execution_count": 311,
   "metadata": {},
   "outputs": [
    {
     "name": "stdout",
     "output_type": "stream",
     "text": [
      "El valor mas frecuente es: 09:00:00\n"
     ]
    }
   ],
   "source": [
    "imputa_valor_por_moda(df_hechos, 'Hora')"
   ]
  },
  {
   "cell_type": "markdown",
   "metadata": {},
   "source": [
    "# LIMITE DE CORRECION \n",
    " hasta aqui esta garantizado el ETL bien ejecutado bajo mi criterio"
   ]
  }
 ],
 "metadata": {
  "kernelspec": {
   "display_name": "Python 3",
   "language": "python",
   "name": "python3"
  },
  "language_info": {
   "codemirror_mode": {
    "name": "ipython",
    "version": 3
   },
   "file_extension": ".py",
   "mimetype": "text/x-python",
   "name": "python",
   "nbconvert_exporter": "python",
   "pygments_lexer": "ipython3",
   "version": "3.11.9"
  }
 },
 "nbformat": 4,
 "nbformat_minor": 2
}
