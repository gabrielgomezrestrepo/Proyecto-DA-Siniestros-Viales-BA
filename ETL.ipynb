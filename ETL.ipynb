{
 "cells": [
  {
   "cell_type": "markdown",
   "metadata": {},
   "source": [
    "# ETL SINIESTROS VIALES \n",
    "# Ciudad Autonoma de Buenos Aires CABA\n",
    "\n",
    "**Por** \n",
    "\n",
    "**Data Analyst**\n",
    "\n",
    "**GABRIEL GOMEZ RESTREPO**"
   ]
  },
  {
   "cell_type": "markdown",
   "metadata": {},
   "source": [
    "\n",
    "\n",
    "\n",
    "\n",
    "Para  los Datasets  este  estudio sobre los accidentes viales de la Ciudad Autonoma de Buenos Aires(CABA), Argentina.\n",
    "recurrimos a consultar  la siguientes links: \n",
    "\n",
    "**Para siniestros**\n",
    "\n",
    "homicidios.xlsx   ( Hechos y Victimas)\n",
    "\n",
    "https://data.buenosaires.gob.ar/dataset/victimas-siniestros-viales\n",
    "\n",
    "**Para poblacion por Comuna** \n",
    "\n",
    "PBP_CO1025.xls   (poblacion por comuna  por edad y sexo)\n",
    "\n",
    "proy_1025_depto_caba.xls   (resumen de PBP_CO1025, poblacion por comuna y por sexo)\n",
    "\n",
    "https://data.buenosaires.gob.ar/dataset/estructura-poblacion\n",
    "\n",
    "\n",
    "http://www.indec.mecon.ar/ftp/cuadros/poblacion\n",
    "\n",
    "**Para Bariios por Comuna** \n",
    "\n",
    "comunas.xlsx  (Barrios por comuna)\n",
    "\n",
    "https://data.buenosaires.gob.ar/dataset/comunas\n",
    "\n",
    "La revision inicial de los datos que hemos otenido requiere de su estraccion tranformacion y  finalmente Cargar o crear una nueva base de datos usando nombres auque similares para  diferenciarlos con las fuentes originales.\n",
    "## Librerias \n",
    "Las siguientes librerias son las que utilice. \n",
    "\n",
    "* **Pandas (import pandas as pd):**\n",
    "Pandas es una biblioteca de Python fundamental en manejo de DataFrame que proporciona estructuras de datos flexibles y herramientas de análisis. \n",
    "\n",
    "* **NumPy (import numpy as np):**\n",
    "NumPy es una biblioteca fundamental en Python para realizar operaciones numéricas.\n",
    "\n",
    "* **%load_ext autoreload y %autoreload 2:**\n",
    "Estos comandos son específicos de los cuadernos Jupyter y se utilizan para recargar automáticamente módulos antes de ejecutar una celda. %load_ext autoreload habilita la recarga automática de módulos, y %autoreload 2 configura la recarga automática para que sea más agresiva y recargue incluso las funciones de los módulos.\n",
    "\n",
    "* **Warnings (import warnings):**\n",
    "El módulo warnings proporciona herramientas para controlar las advertencias que emite Python. En este caso, se está configurando para ignorar las advertencias, lo cual puede ser útil para evitar que las advertencias llenen la salida de la consola y distraigan durante la ejecución del código.\n",
    "\n",
    "## Funciones \n",
    "\n",
    "* **Las funciones nos ahorran tiempo:**\n",
    ">Esta son las funciones que utilice, generar unas funciones para agilizar nuestras tareas es muy importante evitando muchas acciones repetitivas ademas permiten un proceso mas claro y ordenado a continuacion las relaciono:  "
   ]
  },
  {
   "cell_type": "markdown",
   "metadata": {},
   "source": [
    "ver_nulos, ver_duplicados, ver_tipo_datos, conver_tiempo, imputa_frecuente, imputa_edad_sexo"
   ]
  },
  {
   "cell_type": "markdown",
   "metadata": {},
   "source": []
  },
  {
   "cell_type": "code",
   "execution_count": null,
   "metadata": {},
   "outputs": [],
   "source": []
  }
 ],
 "metadata": {
  "language_info": {
   "name": "python"
  }
 },
 "nbformat": 4,
 "nbformat_minor": 2
}
